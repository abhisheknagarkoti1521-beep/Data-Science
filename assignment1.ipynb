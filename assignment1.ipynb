{
 "cells": [
  {
   "cell_type": "markdown",
   "id": "50a6bfac",
   "metadata": {},
   "source": [
    "1-Q1. Create one variable containing following type of data:\n",
    "(i) string\n",
    "(ii) list\n",
    "(iii) float\n",
    "(iv) tuple"
   ]
  },
  {
   "cell_type": "code",
   "execution_count": 2,
   "id": "878a44aa",
   "metadata": {},
   "outputs": [
    {
     "name": "stdout",
     "output_type": "stream",
     "text": [
      "['This is a string', ['item1', 2, 3.0], 3.14, ('one', 2, 'three')]\n",
      "<class 'list'>\n",
      "The type of the string is: <class 'str'>\n",
      "The type of the list is: <class 'list'>\n",
      "The type of the float is: <class 'float'>\n",
      "The type of the tuple is: <class 'tuple'>\n"
     ]
    }
   ],
   "source": [
    "\n",
    "mixed_data = [\n",
    "    \"This is a string\",        # (i) A string\n",
    "    [\"item1\", 2, 3.0],         # (ii) A list\n",
    "    3.14,                      # (iii) A float\n",
    "    (\"one\", 2, \"three\")        # (iv) A tuple\n",
    "]\n",
    "\n",
    "\n",
    "print(mixed_data)\n",
    "\n",
    "\n",
    "print(type(mixed_data)) \n",
    "\n",
    "print(f\"The type of the string is: {type(mixed_data[0])}\")\n",
    "print(f\"The type of the list is: {type(mixed_data[1])}\")\n",
    "print(f\"The type of the float is: {type(mixed_data[2])}\")\n",
    "print(f\"The type of the tuple is: {type(mixed_data[3])}\")\n"
   ]
  },
  {
   "cell_type": "markdown",
   "id": "714cbade",
   "metadata": {},
   "source": [
    "Q2. Given are some following variables containing data:\n",
    "(i) var1 = ‘ ‘\n",
    "(ii) var2 = ‘[ DS , ML , Python]’\n",
    "(iii) var3 = [ ‘DS’ , ’ML’ , ‘Python’ ]\n",
    "(iv) var4 = 1.\n",
    "What will be the data type of the above given variable.\n"
   ]
  },
  {
   "cell_type": "markdown",
   "id": "007329d1",
   "metadata": {},
   "source": [
    "ANSWER:\n",
    "Explanation of data types for the given variables:\n",
    "(i)var1 = ‘ ‘\n",
    "Data Type: str (string)\n",
    "Reason: The value is enclosed in single quotes, which designates it as a string. Even though the string contains only a single space character, it is still treated as text.\n",
    "(ii)var2 = ‘[ DS , ML , Python]’\n",
    "Data Type: str (string)\n",
    "Reason: This variable's value is also a string because it is enclosed in single quotes. The square brackets [] are treated as literal characters, not as Python list syntax, because they are inside the quotation marks.\n",
    "(iii)var3 = [ ‘DS’ , ’ML’ , ‘Python’ ]\n",
    "Data Type: list\n",
    "Reason: The value is a sequence of items enclosed in square brackets [], with each item separated by a comma. This is the syntax for a Python list.\n",
    "(IV)var4 = 1\n",
    "Data Type: int (integer)\n",
    "Reason: The variable is assigned a whole number without any decimal point. In Python, this is recognized as an integer. "
   ]
  },
  {
   "cell_type": "markdown",
   "id": "a8da2653",
   "metadata": {},
   "source": [
    "Q3. Explain the use of the following operators using an example:\n",
    "(i) /\n",
    "(ii) %\n",
    "(iii) //\n",
    "(iv) **"
   ]
  },
  {
   "cell_type": "markdown",
   "id": "a09dcd0d",
   "metadata": {},
   "source": [
    "Answer: (i) / (Division)\n",
    "The / operator performs standard division and always returns a floating-point number (a number with a decimal), even if the division results in a whole number. EXAMPLE:"
   ]
  },
  {
   "cell_type": "code",
   "execution_count": null,
   "id": "4ac4913c",
   "metadata": {},
   "outputs": [
    {
     "name": "stdout",
     "output_type": "stream",
     "text": [
      "5.0\n",
      "3.3333333333333335\n"
     ]
    }
   ],
   "source": [
    "# Standard division of two integers\n",
    "result1 = 10 / 2\n",
    "print(result1)  # Output: 5.0\n",
    "\n",
    "# Standard division resulting in a decimal\n",
    "result2 = 10 / 3\n",
    "print(result2)  \n"
   ]
  },
  {
   "cell_type": "markdown",
   "id": "9331f282",
   "metadata": {},
   "source": [
    "(ii) % (Modulo)\n",
    "The % operator returns the remainder of a division. It is often used to check if a number is even or odd, or to determine if a number is a multiple of another. \n",
    "Example:"
   ]
  },
  {
   "cell_type": "code",
   "execution_count": 4,
   "id": "1c1aff75",
   "metadata": {},
   "outputs": [
    {
     "name": "stdout",
     "output_type": "stream",
     "text": [
      "1\n",
      "0\n"
     ]
    }
   ],
   "source": [
    "# Remainder when 10 is divided by 3\n",
    "remainder1 = 10 % 3\n",
    "print(remainder1)  \n",
    "\n",
    "# Remainder when 8 is divided by 2 (an even number)\n",
    "remainder2 = 8 % 2\n",
    "print(remainder2)  \n"
   ]
  },
  {
   "cell_type": "markdown",
   "id": "1c612786",
   "metadata": {},
   "source": [
    "(iii) // (Floor Division)\n",
    "The // operator performs division but rounds the result down to the nearest whole number. This is also known as integer division. \n",
    "Example:"
   ]
  },
  {
   "cell_type": "code",
   "execution_count": 5,
   "id": "ec2d427a",
   "metadata": {},
   "outputs": [
    {
     "name": "stdout",
     "output_type": "stream",
     "text": [
      "3\n",
      "-4\n"
     ]
    }
   ],
   "source": [
    "# Floor division with positive numbers\n",
    "result1 = 10 // 3\n",
    "print(result1)  \n",
    "\n",
    "# Floor division with negative numbers rounds toward negative infinity\n",
    "result2 = -10 // 3\n",
    "print(result2)  \n"
   ]
  },
  {
   "cell_type": "markdown",
   "id": "3379bcac",
   "metadata": {},
   "source": [
    "(iv) ** (Exponentiation)\n",
    "The ** operator is used to raise a number to the power of another number. The number on the left is the base, and the number on the right is the exponent. \n",
    "Example:"
   ]
  },
  {
   "cell_type": "code",
   "execution_count": 6,
   "id": "beffd439",
   "metadata": {},
   "outputs": [
    {
     "name": "stdout",
     "output_type": "stream",
     "text": [
      "8\n",
      "25\n"
     ]
    }
   ],
   "source": [
    "# Calculate 2 to the power of 3 (2 * 2 * 2)\n",
    "power1 = 2 ** 3\n",
    "print(power1)  \n",
    "\n",
    "# Calculate 5 to the power of 2 (5 * 5)\n",
    "power2 = 5 ** 2\n",
    "print(power2)  \n"
   ]
  },
  {
   "cell_type": "markdown",
   "id": "5e6bbccf",
   "metadata": {},
   "source": [
    "Q4. Create a list of length 10 of your choice containing multiple types of data. Using for loop print the\n",
    "element and its data type."
   ]
  },
  {
   "cell_type": "code",
   "execution_count": 7,
   "id": "aff69db7",
   "metadata": {},
   "outputs": [
    {
     "name": "stdout",
     "output_type": "stream",
     "text": [
      "Element: hello, Data Type: <class 'str'>\n",
      "Element: 42, Data Type: <class 'int'>\n",
      "Element: 3.14, Data Type: <class 'float'>\n",
      "Element: True, Data Type: <class 'bool'>\n",
      "Element: (1, 2, 3), Data Type: <class 'tuple'>\n",
      "Element: None, Data Type: <class 'NoneType'>\n",
      "Element: [10, 20], Data Type: <class 'list'>\n",
      "Element: {'key': 'value'}, Data Type: <class 'dict'>\n",
      "Element: False, Data Type: <class 'bool'>\n",
      "Element: world, Data Type: <class 'str'>\n"
     ]
    }
   ],
   "source": [
    "# Create a list of length 10 with multiple data types\n",
    "mixed_list = [\n",
    "    \"hello\",\n",
    "    42,\n",
    "    3.14,\n",
    "    True,\n",
    "    (1, 2, 3),\n",
    "    None,\n",
    "    [10, 20],\n",
    "    {\"key\": \"value\"},\n",
    "    False,\n",
    "    \"world\"\n",
    "]\n",
    "\n",
    "# Use a for loop to iterate through the list\n",
    "for element in mixed_list:\n",
    "    # Print the element and its data type\n",
    "    print(f\"Element: {element}, Data Type: {type(element)}\")\n",
    "\n"
   ]
  },
  {
   "cell_type": "markdown",
   "id": "367d0635",
   "metadata": {},
   "source": [
    "Q5.Using a while loop, verify if the number A is purely divisible by number B and if so then how many\n",
    "times it can be divisible."
   ]
  },
  {
   "cell_type": "code",
   "execution_count": 8,
   "id": "758b84a2",
   "metadata": {},
   "outputs": [
    {
     "name": "stdout",
     "output_type": "stream",
     "text": [
      "64 is purely divisible by 2.\n",
      "It can be divided 6 times.\n",
      "100 is not purely divisible by 3.\n"
     ]
    }
   ],
   "source": [
    "# Function to check for pure divisibility and count divisions\n",
    "def count_pure_divisions(A, B):\n",
    "    \"\"\"\n",
    "    Verifies if a number A is purely divisible by number B and counts\n",
    "    how many times it can be evenly divided.\n",
    "    \"\"\"\n",
    "    if B == 0:\n",
    "        print(\"Error: Cannot divide by zero.\")\n",
    "        return\n",
    "\n",
    "    if A % B != 0:\n",
    "        print(f\"{A} is not purely divisible by {B}.\")\n",
    "        return\n",
    "\n",
    "    count = 0\n",
    "    while A % B == 0:\n",
    "        A = A // B\n",
    "        count += 1\n",
    "    \n",
    "    print(f\"{original_A} is purely divisible by {B}.\")\n",
    "    print(f\"It can be divided {count} times.\")\n",
    "\n",
    "# Case 1: Purely divisible\n",
    "number_A = 64\n",
    "number_B = 2\n",
    "original_A = number_A  # Store the original number for the print statement\n",
    "count_pure_divisions(number_A, number_B)\n",
    "\n",
    "# Case 2: Not purely divisible\n",
    "number_A = 100\n",
    "number_B = 3\n",
    "count_pure_divisions(number_A, number_B)\n"
   ]
  },
  {
   "cell_type": "markdown",
   "id": "b266658a",
   "metadata": {},
   "source": [
    "Q6. Create a list containing 25 int type data. Using for loop and if-else condition print if the element is\n",
    "divisible by 3 or not."
   ]
  },
  {
   "cell_type": "code",
   "execution_count": 9,
   "id": "9984ed71",
   "metadata": {},
   "outputs": [
    {
     "name": "stdout",
     "output_type": "stream",
     "text": [
      "The number 1 is not divisible by 3.\n",
      "The number 2 is not divisible by 3.\n",
      "The number 3 is divisible by 3.\n",
      "The number 4 is not divisible by 3.\n",
      "The number 5 is not divisible by 3.\n",
      "The number 6 is divisible by 3.\n",
      "The number 7 is not divisible by 3.\n",
      "The number 8 is not divisible by 3.\n",
      "The number 9 is divisible by 3.\n",
      "The number 10 is not divisible by 3.\n",
      "The number 11 is not divisible by 3.\n",
      "The number 12 is divisible by 3.\n",
      "The number 13 is not divisible by 3.\n",
      "The number 14 is not divisible by 3.\n",
      "The number 15 is divisible by 3.\n",
      "The number 16 is not divisible by 3.\n",
      "The number 17 is not divisible by 3.\n",
      "The number 18 is divisible by 3.\n",
      "The number 19 is not divisible by 3.\n",
      "The number 20 is not divisible by 3.\n",
      "The number 21 is divisible by 3.\n",
      "The number 22 is not divisible by 3.\n",
      "The number 23 is not divisible by 3.\n",
      "The number 24 is divisible by 3.\n",
      "The number 25 is not divisible by 3.\n"
     ]
    }
   ],
   "source": [
    "# Create a list containing 25 integers\n",
    "int_list = [1, 2, 3, 4, 5, 6, 7, 8, 9, 10, 11, 12, 13, 14, 15, 16, 17, 18, 19, 20, 21, 22, 23, 24, 25]\n",
    "\n",
    "# Use a for loop to iterate through each element in the list\n",
    "for element in int_list:\n",
    "    # Use an if-else condition to check for divisibility by 3\n",
    "    if element % 3 == 0:\n",
    "        print(f\"The number {element} is divisible by 3.\")\n",
    "    else:\n",
    "        print(f\"The number {element} is not divisible by 3.\")\n",
    "\n"
   ]
  },
  {
   "cell_type": "markdown",
   "id": "49f6613a",
   "metadata": {},
   "source": [
    "Q7. What do you understand about mutable and immutable data types? Give examples for both showing\n",
    "this property.\n"
   ]
  },
  {
   "cell_type": "markdown",
   "id": "4992b30c",
   "metadata": {},
   "source": [
    "ANSWER:\n",
    "Mutable data types\n",
    "A mutable object is one whose value can be changed in-place after it has been created, without creating a new object. Changes made to a mutable object affect all variables that reference it. This behavior can be useful for performance when dealing with large datasets, but can also lead to unexpected side effects. \n",
    "Examples of mutable data types:\n",
    "Lists: You can add, remove, or modify elements.\n",
    "Dictionaries: You can add, remove, or change key-value pairs.\n",
    "Sets: You can add or remove elements. \n",
    "Example showing mutability\n",
    "In this example, the list_1 object is modified, and because list_2 points to the same object in memory, its value is also changed."
   ]
  },
  {
   "cell_type": "code",
   "execution_count": 10,
   "id": "9d97ae6e",
   "metadata": {},
   "outputs": [
    {
     "name": "stdout",
     "output_type": "stream",
     "text": [
      "Initial list_1: [1, 2, 3]\n",
      "Initial list_2: [1, 2, 3]\n",
      "Are they the same object? True\n",
      "\n",
      "After modification, list_1: [1, 2, 3, 4]\n",
      "After modification, list_2: [1, 2, 3, 4]\n"
     ]
    }
   ],
   "source": [
    "# Create a list\n",
    "list_1 = [1, 2, 3]\n",
    "\n",
    "# Assign a new variable to the same list object\n",
    "list_2 = list_1\n",
    "\n",
    "# Check the initial values\n",
    "print(f\"Initial list_1: {list_1}\")\n",
    "print(f\"Initial list_2: {list_2}\")\n",
    "print(f\"Are they the same object? {list_1 is list_2}\")\n",
    "\n",
    "# Modify the list using list_1\n",
    "list_1.append(4)\n",
    "\n",
    "# Print the variables again\n",
    "print(f\"\\nAfter modification, list_1: {list_1}\")\n",
    "print(f\"After modification, list_2: {list_2}\")\n"
   ]
  },
  {
   "cell_type": "markdown",
   "id": "0996e1c0",
   "metadata": {},
   "source": [
    "Immutable data types:\n",
    "An immutable object cannot be modified after it is created. Any operation that appears to \"change\" an immutable object actually creates a new object with the new value, leaving the original object unchanged. This provides data integrity and is safer to use in concurrent or multi-threaded environments. \n",
    "Examples of immutable data types:\n",
    "Numbers: Integers, floats, and complex numbers.\n",
    "Strings: A sequence of characters.\n",
    "Tuples: An ordered collection of items. \n",
    "Example showing immutability\n",
    "In this example, when a new value is assigned to x, a completely new integer object is created in memory. The original object, 5, remains unchanged, and y, which references that original object, is not affected"
   ]
  },
  {
   "cell_type": "code",
   "execution_count": 11,
   "id": "1a141985",
   "metadata": {},
   "outputs": [
    {
     "name": "stdout",
     "output_type": "stream",
     "text": [
      "Initial x: 5\n",
      "Initial y: 5\n",
      "Are they the same object? True\n",
      "\n",
      "After modification, x: 7\n",
      "After modification, y: 5\n",
      "Are they the same object? False\n"
     ]
    }
   ],
   "source": [
    "# Create an integer variable\n",
    "x = 5\n",
    "\n",
    "# Assign a new variable to the same integer object\n",
    "y = x\n",
    "\n",
    "# Check the initial values\n",
    "print(f\"Initial x: {x}\")\n",
    "print(f\"Initial y: {y}\")\n",
    "print(f\"Are they the same object? {x is y}\")\n",
    "\n",
    "# Perform an operation that \"changes\" x\n",
    "x = x + 2\n",
    "\n",
    "# Print the variables again\n",
    "print(f\"\\nAfter modification, x: {x}\")\n",
    "print(f\"After modification, y: {y}\")\n",
    "print(f\"Are they the same object? {x is y}\")\n"
   ]
  }
 ],
 "metadata": {
  "kernelspec": {
   "display_name": "Python 3",
   "language": "python",
   "name": "python3"
  },
  "language_info": {
   "codemirror_mode": {
    "name": "ipython",
    "version": 3
   },
   "file_extension": ".py",
   "mimetype": "text/x-python",
   "name": "python",
   "nbconvert_exporter": "python",
   "pygments_lexer": "ipython3",
   "version": "3.13.3"
  }
 },
 "nbformat": 4,
 "nbformat_minor": 5
}
